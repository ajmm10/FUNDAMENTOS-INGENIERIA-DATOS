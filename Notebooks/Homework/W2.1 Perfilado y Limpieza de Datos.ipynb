{
 "cells": [
  {
   "cell_type": "markdown",
   "id": "0597890d",
   "metadata": {},
   "source": [
    "# Actividad 4 · Perfilado de Datos\n",
    "\n",
    "## Objetivo\n",
    "Perfilar la calidad de un dataset real de e-commerce, limpiar nulos y duplicados, y formalizar un data contract para asegurar calidad mínima en futuros consumos.\n",
    "\n",
    "## Conjunto de datos\n",
    "- Online Retail II (UCI ML Repository): https://archive.ics.uci.edu/dataset/502/online+retail+ii\n",
    "- Kaggle: https://www.kaggle.com/datasets/carrie1/ecommerce-data/data\n",
    "\n",
    "El dataset agrupa transacciones de 2009 a 2011 de un minorista online del Reino Unido.\n",
    "\n",
    "## Entregable\n",
    "Notebook “W2.1 Perfilado y Limpieza de Datos” en `Notebooks/Homework/`, con todas las celdas ejecutadas y salidas visibles.\n",
    "\n",
    "## Criterios de Evaluación\n",
    "| Sección   | Puntaje |\n",
    "|-----------|---------|\n",
    "| Parte 1   | 2 pts   |\n",
    "| Parte 2   | 2 pts   |\n",
    "| Parte 3   | 2 pts   |\n",
    "| Parte 4   | 2 pts   |\n",
    "| Parte 5   | 2 pts   |"
   ]
  },
  {
   "cell_type": "markdown",
   "id": "3051e70c",
   "metadata": {},
   "source": [
    "## Instrucciones\n",
    "\n",
    "Las siguientes secciones replican los apartados solicitados en el documento de la actividad, acompañados del análisis correspondiente en código."
   ]
  },
  {
   "cell_type": "markdown",
   "id": "0cbe3374",
   "metadata": {},
   "source": [
    "## Parte 1. Integración y Exploración\n",
    "\n",
    "Se trabaja con el dataset histórico de transacciones de un retailer online del Reino Unido disponible en UCI / Kaggle. La información se entrega en dos hojas (2009-2010 y 2010-2011); se integran en un único `DataFrame` para el análisis.\n",
    "\n",
    "**Checklist de la actividad:**\n",
    "- **Carga e inspección.** Importa el archivo y muestra shape, tipos y primeras filas.\n",
    "- **Tipo de Datos.** Asegura `InvoiceDate` como fecha; valida variables numéricas (`Quantity`, `UnitPrice`) y categóricas (`InvoiceNo`, `StockCode`, `Description`, `Country`, `CustomerID`).\n",
    "- **Variables derivadas.** Calcula `TotalPrice = Quantity * UnitPrice`.\n",
    "- **Distribuciones.** Genera histogramas y boxplots para numéricas, y barras para categóricas."
   ]
  },
  {
   "cell_type": "code",
   "execution_count": null,
   "id": "b2a19144",
   "metadata": {
    "execution": {
     "iopub.execute_input": "2025-10-22T21:52:18.971223Z",
     "iopub.status.busy": "2025-10-22T21:52:18.970534Z",
     "iopub.status.idle": "2025-10-22T21:53:25.867305Z",
     "shell.execute_reply": "2025-10-22T21:53:25.866810Z"
    }
   },
   "outputs": [],
   "source": [
    "import pandas as pd\n",
    "import numpy as np\n",
    "import seaborn as sns\n",
    "import matplotlib.pyplot as plt\n",
    "from pathlib import Path\n",
    "\n",
    "pd.set_option('display.float_format', lambda x: f\"{x:,.2f}\")\n",
    "sns.set_theme(style=\"whitegrid\")\n",
    "\n",
    "DATA_FILENAME = \"online_retail_II.xlsx\"\n",
    "SEARCH_PATHS = [\n",
    "    (\"Notebooks\", \"data\"),\n",
    "    (\"notebooks\", \"data\"),\n",
    "    (\"data\",),\n",
    "]\n",
    "\n",
    "def locate_data_file(filename: str) -> Path:\n",
    "    \"\"\"Busca el archivo de datos subiendo desde el directorio actual.\"\"\"\n",
    "    cwd = Path.cwd().resolve()\n",
    "    for base in (cwd,) + tuple(cwd.parents):\n",
    "        for parts in SEARCH_PATHS:\n",
    "            candidate = base.joinpath(*parts, filename)\n",
    "            if candidate.exists():\n",
    "                return candidate\n",
    "    raise FileNotFoundError(f\"No se encontró {filename} en las rutas esperadas desde {cwd}\")\n",
    "\n",
    "DATA_PATH = locate_data_file(DATA_FILENAME)\n",
    "excel_file = pd.ExcelFile(DATA_PATH)\n",
    "raw_frames = [excel_file.parse(sheet_name=sheet) for sheet in excel_file.sheet_names]\n",
    "raw_df = pd.concat(raw_frames, ignore_index=True)\n",
    "\n",
    "print(f\"Archivo origen: {DATA_PATH}\")\n",
    "print(f\"Hojas integradas: {excel_file.sheet_names}\")\n",
    "print(f\"Shape del dataset integrado: {raw_df.shape}\")\n",
    "raw_df.head()\n"
   ]
  },
  {
   "cell_type": "code",
   "execution_count": null,
   "id": "8fe1bf59",
   "metadata": {
    "execution": {
     "iopub.execute_input": "2025-10-22T21:53:25.947464Z",
     "iopub.status.busy": "2025-10-22T21:53:25.947059Z",
     "iopub.status.idle": "2025-10-22T21:53:26.429762Z",
     "shell.execute_reply": "2025-10-22T21:53:26.429452Z"
    }
   },
   "outputs": [
    {
     "data": {
      "text/html": [
       "<div>\n",
       "<style scoped>\n",
       "    .dataframe tbody tr th:only-of-type {\n",
       "        vertical-align: middle;\n",
       "    }\n",
       "\n",
       "    .dataframe tbody tr th {\n",
       "        vertical-align: top;\n",
       "    }\n",
       "\n",
       "    .dataframe thead th {\n",
       "        text-align: right;\n",
       "    }\n",
       "</style>\n",
       "<table border=\"1\" class=\"dataframe\">\n",
       "  <thead>\n",
       "    <tr style=\"text-align: right;\">\n",
       "      <th></th>\n",
       "      <th>columna</th>\n",
       "      <th>dtype</th>\n",
       "      <th>n_nulos</th>\n",
       "      <th>n_unicos</th>\n",
       "    </tr>\n",
       "  </thead>\n",
       "  <tbody>\n",
       "    <tr>\n",
       "      <th>0</th>\n",
       "      <td>InvoiceNo</td>\n",
       "      <td>object</td>\n",
       "      <td>0</td>\n",
       "      <td>53628</td>\n",
       "    </tr>\n",
       "    <tr>\n",
       "      <th>1</th>\n",
       "      <td>StockCode</td>\n",
       "      <td>object</td>\n",
       "      <td>0</td>\n",
       "      <td>5305</td>\n",
       "    </tr>\n",
       "    <tr>\n",
       "      <th>2</th>\n",
       "      <td>Description</td>\n",
       "      <td>object</td>\n",
       "      <td>4382</td>\n",
       "      <td>5698</td>\n",
       "    </tr>\n",
       "    <tr>\n",
       "      <th>3</th>\n",
       "      <td>Quantity</td>\n",
       "      <td>int64</td>\n",
       "      <td>0</td>\n",
       "      <td>1057</td>\n",
       "    </tr>\n",
       "    <tr>\n",
       "      <th>4</th>\n",
       "      <td>InvoiceDate</td>\n",
       "      <td>datetime64[ns]</td>\n",
       "      <td>0</td>\n",
       "      <td>47635</td>\n",
       "    </tr>\n",
       "    <tr>\n",
       "      <th>5</th>\n",
       "      <td>UnitPrice</td>\n",
       "      <td>float64</td>\n",
       "      <td>0</td>\n",
       "      <td>2807</td>\n",
       "    </tr>\n",
       "    <tr>\n",
       "      <th>6</th>\n",
       "      <td>CustomerID</td>\n",
       "      <td>Int64</td>\n",
       "      <td>243007</td>\n",
       "      <td>5942</td>\n",
       "    </tr>\n",
       "    <tr>\n",
       "      <th>7</th>\n",
       "      <td>Country</td>\n",
       "      <td>object</td>\n",
       "      <td>0</td>\n",
       "      <td>43</td>\n",
       "    </tr>\n",
       "  </tbody>\n",
       "</table>\n",
       "</div>"
      ],
      "text/plain": [
       "       columna           dtype  n_nulos  n_unicos\n",
       "0    InvoiceNo          object        0     53628\n",
       "1    StockCode          object        0      5305\n",
       "2  Description          object     4382      5698\n",
       "3     Quantity           int64        0      1057\n",
       "4  InvoiceDate  datetime64[ns]        0     47635\n",
       "5    UnitPrice         float64        0      2807\n",
       "6   CustomerID           Int64   243007      5942\n",
       "7      Country          object        0        43"
      ]
     },
     "execution_count": 2,
     "metadata": {},
     "output_type": "execute_result"
    }
   ],
   "source": [
    "\n",
    "# Validación de esquema y ajuste de tipos\n",
    "expected_names = {\n",
    "    'Invoice': 'InvoiceNo',\n",
    "    'StockCode': 'StockCode',\n",
    "    'Description': 'Description',\n",
    "    'Quantity': 'Quantity',\n",
    "    'InvoiceDate': 'InvoiceDate',\n",
    "    'Price': 'UnitPrice',\n",
    "    'Customer ID': 'CustomerID',\n",
    "    'Country': 'Country',\n",
    "}\n",
    "\n",
    "df = raw_df.rename(columns=expected_names).copy()\n",
    "\n",
    "numeric_cols = ['Quantity', 'UnitPrice']\n",
    "text_cols = ['InvoiceNo', 'StockCode', 'Description', 'Country']\n",
    "\n",
    "for col in numeric_cols:\n",
    "    df[col] = pd.to_numeric(df[col], errors='coerce')\n",
    "\n",
    "df['InvoiceDate'] = pd.to_datetime(df['InvoiceDate'], errors='coerce')\n",
    "df['CustomerID'] = pd.to_numeric(df['CustomerID'], errors='coerce').astype('Int64')\n",
    "\n",
    "schema_report = (\n",
    "    pd.DataFrame({\n",
    "        'dtype': df.dtypes.astype(str),\n",
    "        'n_nulos': df.isna().sum(),\n",
    "        'n_unicos': df.nunique(),\n",
    "    })\n",
    "    .rename_axis('columna')\n",
    "    .reset_index()\n",
    ")\n",
    "\n",
    "schema_report\n"
   ]
  },
  {
   "cell_type": "code",
   "execution_count": null,
   "id": "f13a74e4",
   "metadata": {
    "execution": {
     "iopub.execute_input": "2025-10-22T21:53:26.431735Z",
     "iopub.status.busy": "2025-10-22T21:53:26.431621Z",
     "iopub.status.idle": "2025-10-22T21:53:26.505588Z",
     "shell.execute_reply": "2025-10-22T21:53:26.504814Z"
    }
   },
   "outputs": [
    {
     "data": {
      "text/html": [
       "<div>\n",
       "<style scoped>\n",
       "    .dataframe tbody tr th:only-of-type {\n",
       "        vertical-align: middle;\n",
       "    }\n",
       "\n",
       "    .dataframe tbody tr th {\n",
       "        vertical-align: top;\n",
       "    }\n",
       "\n",
       "    .dataframe thead th {\n",
       "        text-align: right;\n",
       "    }\n",
       "</style>\n",
       "<table border=\"1\" class=\"dataframe\">\n",
       "  <thead>\n",
       "    <tr style=\"text-align: right;\">\n",
       "      <th></th>\n",
       "      <th>count</th>\n",
       "      <th>mean</th>\n",
       "      <th>std</th>\n",
       "      <th>min</th>\n",
       "      <th>25%</th>\n",
       "      <th>50%</th>\n",
       "      <th>75%</th>\n",
       "      <th>max</th>\n",
       "    </tr>\n",
       "  </thead>\n",
       "  <tbody>\n",
       "    <tr>\n",
       "      <th>Quantity</th>\n",
       "      <td>1,067,371.00</td>\n",
       "      <td>9.94</td>\n",
       "      <td>172.71</td>\n",
       "      <td>-80,995.00</td>\n",
       "      <td>1.00</td>\n",
       "      <td>3.00</td>\n",
       "      <td>10.00</td>\n",
       "      <td>80,995.00</td>\n",
       "    </tr>\n",
       "    <tr>\n",
       "      <th>UnitPrice</th>\n",
       "      <td>1,067,371.00</td>\n",
       "      <td>4.65</td>\n",
       "      <td>123.55</td>\n",
       "      <td>-53,594.36</td>\n",
       "      <td>1.25</td>\n",
       "      <td>2.10</td>\n",
       "      <td>4.15</td>\n",
       "      <td>38,970.00</td>\n",
       "    </tr>\n",
       "  </tbody>\n",
       "</table>\n",
       "</div>"
      ],
      "text/plain": [
       "                 count  mean    std        min  25%  50%   75%       max\n",
       "Quantity  1,067,371.00  9.94 172.71 -80,995.00 1.00 3.00 10.00 80,995.00\n",
       "UnitPrice 1,067,371.00  4.65 123.55 -53,594.36 1.25 2.10  4.15 38,970.00"
      ]
     },
     "execution_count": 3,
     "metadata": {},
     "output_type": "execute_result"
    }
   ],
   "source": [
    "\n",
    "# Estadísticos descriptivos básicos para numéricas\n",
    "num_summary = df[numeric_cols].describe(percentiles=[0.25, 0.5, 0.75]).T\n",
    "num_summary\n"
   ]
  },
  {
   "cell_type": "code",
   "execution_count": null,
   "id": "0c41a6d4",
   "metadata": {
    "execution": {
     "iopub.execute_input": "2025-10-22T21:53:26.513023Z",
     "iopub.status.busy": "2025-10-22T21:53:26.512902Z",
     "iopub.status.idle": "2025-10-22T21:53:26.525716Z",
     "shell.execute_reply": "2025-10-22T21:53:26.525451Z"
    }
   },
   "outputs": [
    {
     "name": "stdout",
     "output_type": "stream",
     "text": [
      "TotalPrice calculado como Quantity * UnitPrice\n"
     ]
    },
    {
     "data": {
      "text/html": [
       "<div>\n",
       "<style scoped>\n",
       "    .dataframe tbody tr th:only-of-type {\n",
       "        vertical-align: middle;\n",
       "    }\n",
       "\n",
       "    .dataframe tbody tr th {\n",
       "        vertical-align: top;\n",
       "    }\n",
       "\n",
       "    .dataframe thead th {\n",
       "        text-align: right;\n",
       "    }\n",
       "</style>\n",
       "<table border=\"1\" class=\"dataframe\">\n",
       "  <thead>\n",
       "    <tr style=\"text-align: right;\">\n",
       "      <th></th>\n",
       "      <th>Quantity</th>\n",
       "      <th>UnitPrice</th>\n",
       "      <th>TotalPrice</th>\n",
       "    </tr>\n",
       "  </thead>\n",
       "  <tbody>\n",
       "    <tr>\n",
       "      <th>0</th>\n",
       "      <td>12</td>\n",
       "      <td>6.95</td>\n",
       "      <td>83.40</td>\n",
       "    </tr>\n",
       "    <tr>\n",
       "      <th>1</th>\n",
       "      <td>12</td>\n",
       "      <td>6.75</td>\n",
       "      <td>81.00</td>\n",
       "    </tr>\n",
       "    <tr>\n",
       "      <th>2</th>\n",
       "      <td>12</td>\n",
       "      <td>6.75</td>\n",
       "      <td>81.00</td>\n",
       "    </tr>\n",
       "    <tr>\n",
       "      <th>3</th>\n",
       "      <td>48</td>\n",
       "      <td>2.10</td>\n",
       "      <td>100.80</td>\n",
       "    </tr>\n",
       "    <tr>\n",
       "      <th>4</th>\n",
       "      <td>24</td>\n",
       "      <td>1.25</td>\n",
       "      <td>30.00</td>\n",
       "    </tr>\n",
       "  </tbody>\n",
       "</table>\n",
       "</div>"
      ],
      "text/plain": [
       "   Quantity  UnitPrice  TotalPrice\n",
       "0        12       6.95       83.40\n",
       "1        12       6.75       81.00\n",
       "2        12       6.75       81.00\n",
       "3        48       2.10      100.80\n",
       "4        24       1.25       30.00"
      ]
     },
     "execution_count": 4,
     "metadata": {},
     "output_type": "execute_result"
    }
   ],
   "source": [
    "\n",
    "# Variable derivada\n",
    "if 'TotalPrice' not in df.columns:\n",
    "    df['TotalPrice'] = df['Quantity'] * df['UnitPrice']\n",
    "\n",
    "print(\"TotalPrice calculado como Quantity * UnitPrice\")\n",
    "df[['Quantity', 'UnitPrice', 'TotalPrice']].head()\n"
   ]
  },
  {
   "cell_type": "markdown",
   "id": "29b37013",
   "metadata": {},
   "source": [
    "\n",
    "### Distribuciones univariadas\n",
    "Se exploran las distribuciones de las variables numéricas y categóricas solicitadas.\n"
   ]
  },
  {
   "cell_type": "code",
   "execution_count": null,
   "id": "8156d28d",
   "metadata": {
    "execution": {
     "iopub.execute_input": "2025-10-22T21:53:26.527126Z",
     "iopub.status.busy": "2025-10-22T21:53:26.527028Z",
     "iopub.status.idle": "2025-10-22T21:53:30.376981Z",
     "shell.execute_reply": "2025-10-22T21:53:30.376546Z"
    }
   },
   "outputs": [
    {
     "data": {
      "image/png": "[encoded data removed]",
      "text/plain": [
       "<Figure size 1800x400 with 3 Axes>"
      ]
     },
     "metadata": {},
     "output_type": "display_data"
    }
   ],
   "source": [
    "\n",
    "num_cols = ['Quantity', 'UnitPrice', 'TotalPrice']\n",
    "fig, axes = plt.subplots(1, len(num_cols), figsize=(18, 4))\n",
    "for ax, col in zip(axes, num_cols):\n",
    "    sns.histplot(data=df, x=col, bins=50, ax=ax, kde=True)\n",
    "    ax.set_title(f\"Histograma de {col}\")\n",
    "plt.tight_layout()\n"
   ]
  },
  {
   "cell_type": "code",
   "execution_count": null,
   "id": "48b1f2b6",
   "metadata": {
    "execution": {
     "iopub.execute_input": "2025-10-22T21:53:30.393845Z",
     "iopub.status.busy": "2025-10-22T21:53:30.393575Z",
     "iopub.status.idle": "2025-10-22T21:53:30.981825Z",
     "shell.execute_reply": "2025-10-22T21:53:30.981418Z"
    }
   },
   "outputs": [
    {
     "data": {
      "image/png": "[encoded data removed]",
      "text/plain": [
       "<Figure size 1800x400 with 3 Axes>"
      ]
     },
     "metadata": {},
     "output_type": "display_data"
    }
   ],
   "source": [
    "\n",
    "fig, axes = plt.subplots(1, len(num_cols), figsize=(18, 4))\n",
    "for ax, col in zip(axes, num_cols):\n",
    "    sns.boxplot(data=df, y=col, ax=ax)\n",
    "    ax.set_title(f\"Boxplot de {col}\")\n",
    "plt.tight_layout()\n"
   ]
  },
  {
   "cell_type": "code",
   "execution_count": null,
   "id": "7a0e2c18",
   "metadata": {
    "execution": {
     "iopub.execute_input": "2025-10-22T21:53:30.986613Z",
     "iopub.status.busy": "2025-10-22T21:53:30.986453Z",
     "iopub.status.idle": "2025-10-22T21:53:31.557352Z",
     "shell.execute_reply": "2025-10-22T21:53:31.556694Z"
    }
   },
   "outputs": [
    {
     "data": {
      "image/png": "[encoded data removed]",
      "text/plain": [
       "<Figure size 2400x600 with 3 Axes>"
      ]
     },
     "metadata": {},
     "output_type": "display_data"
    }
   ],
   "source": [
    "\n",
    "cat_configs = {\n",
    "    'Country': (10, 'Top 10 países por número de transacciones'),\n",
    "    'StockCode': (10, 'Top 10 StockCode por frecuencia'),\n",
    "    'Description': (10, 'Top 10 descripciones por frecuencia'),\n",
    "}\n",
    "\n",
    "fig, axes = plt.subplots(1, 3, figsize=(24, 6))\n",
    "for ax, (col, (top_n, title)) in zip(axes, cat_configs.items()):\n",
    "    counts = df[col].value_counts().head(top_n).sort_values()\n",
    "    sns.barplot(x=counts.values, y=counts.index, ax=ax)\n",
    "    ax.set_title(title)\n",
    "    ax.set_xlabel('Frecuencia')\n",
    "    ax.set_ylabel(col)\n",
    "plt.tight_layout()\n"
   ]
  },
  {
   "cell_type": "markdown",
   "id": "23fba09a",
   "metadata": {},
   "source": [
    "## Parte 2. Perfilado de Calidad\n",
    "\n",
    "**Checklist de la actividad:**\n",
    "- **Nulos (por columna).** Tabla con porcentaje de nulos por campo.\n",
    "- **Duplicados.** Identifica filas idénticas en todas las columnas y duplicados por clave relevante.\n",
    "- **Valores anómalos (numéricas).** Detecta outliers en `Quantity` y `UnitPrice` utilizando IQR o z-score."
   ]
  },
  {
   "cell_type": "code",
   "execution_count": null,
   "id": "478ef6a5",
   "metadata": {
    "execution": {
     "iopub.execute_input": "2025-10-22T21:53:31.568190Z",
     "iopub.status.busy": "2025-10-22T21:53:31.567949Z",
     "iopub.status.idle": "2025-10-22T21:53:31.692154Z",
     "shell.execute_reply": "2025-10-22T21:53:31.691858Z"
    }
   },
   "outputs": [
    {
     "data": {
      "text/html": [
       "<div>\n",
       "<style scoped>\n",
       "    .dataframe tbody tr th:only-of-type {\n",
       "        vertical-align: middle;\n",
       "    }\n",
       "\n",
       "    .dataframe tbody tr th {\n",
       "        vertical-align: top;\n",
       "    }\n",
       "\n",
       "    .dataframe thead th {\n",
       "        text-align: right;\n",
       "    }\n",
       "</style>\n",
       "<table border=\"1\" class=\"dataframe\">\n",
       "  <thead>\n",
       "    <tr style=\"text-align: right;\">\n",
       "      <th></th>\n",
       "      <th>%_nulos</th>\n",
       "    </tr>\n",
       "  </thead>\n",
       "  <tbody>\n",
       "    <tr>\n",
       "      <th>InvoiceNo</th>\n",
       "      <td>0.00</td>\n",
       "    </tr>\n",
       "    <tr>\n",
       "      <th>StockCode</th>\n",
       "      <td>0.00</td>\n",
       "    </tr>\n",
       "    <tr>\n",
       "      <th>Description</th>\n",
       "      <td>0.41</td>\n",
       "    </tr>\n",
       "    <tr>\n",
       "      <th>Quantity</th>\n",
       "      <td>0.00</td>\n",
       "    </tr>\n",
       "    <tr>\n",
       "      <th>InvoiceDate</th>\n",
       "      <td>0.00</td>\n",
       "    </tr>\n",
       "    <tr>\n",
       "      <th>UnitPrice</th>\n",
       "      <td>0.00</td>\n",
       "    </tr>\n",
       "    <tr>\n",
       "      <th>CustomerID</th>\n",
       "      <td>22.77</td>\n",
       "    </tr>\n",
       "    <tr>\n",
       "      <th>Country</th>\n",
       "      <td>0.00</td>\n",
       "    </tr>\n",
       "    <tr>\n",
       "      <th>TotalPrice</th>\n",
       "      <td>0.00</td>\n",
       "    </tr>\n",
       "  </tbody>\n",
       "</table>\n",
       "</div>"
      ],
      "text/plain": [
       "             %_nulos\n",
       "InvoiceNo       0.00\n",
       "StockCode       0.00\n",
       "Description     0.41\n",
       "Quantity        0.00\n",
       "InvoiceDate     0.00\n",
       "UnitPrice       0.00\n",
       "CustomerID     22.77\n",
       "Country         0.00\n",
       "TotalPrice      0.00"
      ]
     },
     "execution_count": 8,
     "metadata": {},
     "output_type": "execute_result"
    }
   ],
   "source": [
    "\n",
    "# Nulos por columna\n",
    "null_profile = (\n",
    "    df.isna()\n",
    "      .mean()\n",
    "      .mul(100)\n",
    "      .round(2)\n",
    "      .rename('%_nulos')\n",
    "      .to_frame()\n",
    ")\n",
    "null_profile\n"
   ]
  },
  {
   "cell_type": "code",
   "execution_count": null,
   "id": "9ef6a877",
   "metadata": {
    "execution": {
     "iopub.execute_input": "2025-10-22T21:53:31.694126Z",
     "iopub.status.busy": "2025-10-22T21:53:31.694014Z",
     "iopub.status.idle": "2025-10-22T21:53:32.257077Z",
     "shell.execute_reply": "2025-10-22T21:53:32.256719Z"
    }
   },
   "outputs": [
    {
     "name": "stdout",
     "output_type": "stream",
     "text": [
      "Duplicados exactos en todas las columnas: 34,335\n",
      "Duplicados con la clave ['InvoiceNo', 'StockCode', 'Description', 'InvoiceDate', 'CustomerID']: 45,935\n"
     ]
    }
   ],
   "source": [
    "\n",
    "# Duplicados exactos y por clave\n",
    "exact_duplicates = df.duplicated().sum()\n",
    "key_cols = ['InvoiceNo', 'StockCode', 'Description', 'InvoiceDate', 'CustomerID']\n",
    "key_duplicates = df.duplicated(subset=key_cols).sum()\n",
    "\n",
    "print(f\"Duplicados exactos en todas las columnas: {exact_duplicates:,}\")\n",
    "print(f\"Duplicados con la clave {key_cols}: {key_duplicates:,}\")\n"
   ]
  },
  {
   "cell_type": "code",
   "execution_count": null,
   "id": "9d4b43ff",
   "metadata": {
    "execution": {
     "iopub.execute_input": "2025-10-22T21:53:32.259298Z",
     "iopub.status.busy": "2025-10-22T21:53:32.259116Z",
     "iopub.status.idle": "2025-10-22T21:53:32.348736Z",
     "shell.execute_reply": "2025-10-22T21:53:32.348213Z"
    }
   },
   "outputs": [
    {
     "data": {
      "text/html": [
       "<div>\n",
       "<style scoped>\n",
       "    .dataframe tbody tr th:only-of-type {\n",
       "        vertical-align: middle;\n",
       "    }\n",
       "\n",
       "    .dataframe tbody tr th {\n",
       "        vertical-align: top;\n",
       "    }\n",
       "\n",
       "    .dataframe thead th {\n",
       "        text-align: right;\n",
       "    }\n",
       "</style>\n",
       "<table border=\"1\" class=\"dataframe\">\n",
       "  <thead>\n",
       "    <tr style=\"text-align: right;\">\n",
       "      <th></th>\n",
       "      <th>columna</th>\n",
       "      <th>q1</th>\n",
       "      <th>q3</th>\n",
       "      <th>iqr</th>\n",
       "      <th>límite_inferior</th>\n",
       "      <th>límite_superior</th>\n",
       "      <th>n_outliers</th>\n",
       "      <th>%_outliers</th>\n",
       "    </tr>\n",
       "  </thead>\n",
       "  <tbody>\n",
       "    <tr>\n",
       "      <th>0</th>\n",
       "      <td>Quantity</td>\n",
       "      <td>1.00</td>\n",
       "      <td>10.00</td>\n",
       "      <td>9.00</td>\n",
       "      <td>-12.50</td>\n",
       "      <td>23.50</td>\n",
       "      <td>116489</td>\n",
       "      <td>10.91</td>\n",
       "    </tr>\n",
       "    <tr>\n",
       "      <th>1</th>\n",
       "      <td>UnitPrice</td>\n",
       "      <td>1.25</td>\n",
       "      <td>4.15</td>\n",
       "      <td>2.90</td>\n",
       "      <td>-3.10</td>\n",
       "      <td>8.50</td>\n",
       "      <td>68105</td>\n",
       "      <td>6.38</td>\n",
       "    </tr>\n",
       "    <tr>\n",
       "      <th>2</th>\n",
       "      <td>TotalPrice</td>\n",
       "      <td>3.75</td>\n",
       "      <td>17.70</td>\n",
       "      <td>13.95</td>\n",
       "      <td>-17.18</td>\n",
       "      <td>38.63</td>\n",
       "      <td>90922</td>\n",
       "      <td>8.52</td>\n",
       "    </tr>\n",
       "  </tbody>\n",
       "</table>\n",
       "</div>"
      ],
      "text/plain": [
       "      columna   q1    q3   iqr  límite_inferior  límite_superior  n_outliers  \\\n",
       "0    Quantity 1.00 10.00  9.00           -12.50            23.50      116489   \n",
       "1   UnitPrice 1.25  4.15  2.90            -3.10             8.50       68105   \n",
       "2  TotalPrice 3.75 17.70 13.95           -17.18            38.63       90922   \n",
       "\n",
       "   %_outliers  \n",
       "0       10.91  \n",
       "1        6.38  \n",
       "2        8.52  "
      ]
     },
     "execution_count": 10,
     "metadata": {},
     "output_type": "execute_result"
    }
   ],
   "source": [
    "\n",
    "# Detección de outliers con método IQR\n",
    "quant_cols = ['Quantity', 'UnitPrice', 'TotalPrice']\n",
    "\n",
    "summary_rows = []\n",
    "for col in quant_cols:\n",
    "    series = df[col].dropna()\n",
    "    q1, q3 = series.quantile([0.25, 0.75])\n",
    "    iqr = q3 - q1\n",
    "    lower = q1 - 1.5 * iqr\n",
    "    upper = q3 + 1.5 * iqr\n",
    "    mask = (series < lower) | (series > upper)\n",
    "    summary_rows.append({\n",
    "        'columna': col,\n",
    "        'q1': q1,\n",
    "        'q3': q3,\n",
    "        'iqr': iqr,\n",
    "        'límite_inferior': lower,\n",
    "        'límite_superior': upper,\n",
    "        'n_outliers': int(mask.sum()),\n",
    "        '%_outliers': mask.mean() * 100,\n",
    "    })\n",
    "\n",
    "outlier_summary = pd.DataFrame(summary_rows)\n",
    "outlier_summary\n"
   ]
  },
  {
   "cell_type": "markdown",
   "id": "779ab721",
   "metadata": {},
   "source": [
    "## Parte 3. Limpieza\n",
    "\n",
    "**Checklist de la actividad:**\n",
    "- **Duplicados.** Muestra conteo antes y después para duplicados exactos y por clave; documenta el criterio de priorización.\n",
    "- **Valores faltantes (`CustomerID`).** Cuantifica impacto de eliminar filas sin `CustomerID` versus mantenerlas para análisis por producto/país."
   ]
  },
  {
   "cell_type": "markdown",
   "id": "36a78e45",
   "metadata": {},
   "source": [
    "\n",
    "**Criterio de duplicados.**\n",
    "1. Se eliminan registros duplicados exactos (todas las columnas).\n",
    "2. Para duplicados por clave (`InvoiceNo`, `StockCode`, `Description`, `InvoiceDate`, `CustomerID`) se prioriza conservar la transacción con fecha más reciente y con `UnitPrice` no nulo. Se ordena por `InvoiceDate` ascendente y se conserva el último registro de cada combinación, asegurando mantener la versión más actual.\n"
   ]
  },
  {
   "cell_type": "code",
   "execution_count": null,
   "id": "57c27224",
   "metadata": {
    "execution": {
     "iopub.execute_input": "2025-10-22T21:53:32.350989Z",
     "iopub.status.busy": "2025-10-22T21:53:32.350840Z",
     "iopub.status.idle": "2025-10-22T21:53:33.175561Z",
     "shell.execute_reply": "2025-10-22T21:53:33.175046Z"
    }
   },
   "outputs": [
    {
     "data": {
      "text/html": [
       "<div>\n",
       "<style scoped>\n",
       "    .dataframe tbody tr th:only-of-type {\n",
       "        vertical-align: middle;\n",
       "    }\n",
       "\n",
       "    .dataframe tbody tr th {\n",
       "        vertical-align: top;\n",
       "    }\n",
       "\n",
       "    .dataframe thead th {\n",
       "        text-align: right;\n",
       "    }\n",
       "</style>\n",
       "<table border=\"1\" class=\"dataframe\">\n",
       "  <thead>\n",
       "    <tr style=\"text-align: right;\">\n",
       "      <th></th>\n",
       "      <th>concepto</th>\n",
       "      <th>conteo</th>\n",
       "    </tr>\n",
       "  </thead>\n",
       "  <tbody>\n",
       "    <tr>\n",
       "      <th>0</th>\n",
       "      <td>Registros originales</td>\n",
       "      <td>1067371</td>\n",
       "    </tr>\n",
       "    <tr>\n",
       "      <th>1</th>\n",
       "      <td>Duplicados exactos removidos</td>\n",
       "      <td>34335</td>\n",
       "    </tr>\n",
       "    <tr>\n",
       "      <th>2</th>\n",
       "      <td>Duplicados por clave removidos</td>\n",
       "      <td>11600</td>\n",
       "    </tr>\n",
       "    <tr>\n",
       "      <th>3</th>\n",
       "      <td>Registros limpios</td>\n",
       "      <td>1021436</td>\n",
       "    </tr>\n",
       "  </tbody>\n",
       "</table>\n",
       "</div>"
      ],
      "text/plain": [
       "                         concepto   conteo\n",
       "0            Registros originales  1067371\n",
       "1    Duplicados exactos removidos    34335\n",
       "2  Duplicados por clave removidos    11600\n",
       "3               Registros limpios  1021436"
      ]
     },
     "execution_count": 11,
     "metadata": {},
     "output_type": "execute_result"
    }
   ],
   "source": [
    "\n",
    "# Paso 1: eliminar duplicados exactos\n",
    "step1_df = df.drop_duplicates().copy()\n",
    "exact_removed = len(df) - len(step1_df)\n",
    "\n",
    "# Paso 2: eliminar duplicados por clave priorizando registros con UnitPrice válido y fecha más reciente\n",
    "sort_cols = ['InvoiceDate', 'UnitPrice']\n",
    "step1_df = step1_df.sort_values(sort_cols)\n",
    "clean_df = step1_df.drop_duplicates(subset=key_cols, keep='last').copy()\n",
    "key_removed = len(step1_df) - len(clean_df)\n",
    "\n",
    "pd.DataFrame({\n",
    "    'concepto': ['Registros originales', 'Duplicados exactos removidos', 'Duplicados por clave removidos', 'Registros limpios'],\n",
    "    'conteo': [len(df), exact_removed, key_removed, len(clean_df)]\n",
    "})\n"
   ]
  },
  {
   "cell_type": "code",
   "execution_count": null,
   "id": "919e4332",
   "metadata": {
    "execution": {
     "iopub.execute_input": "2025-10-22T21:53:33.177954Z",
     "iopub.status.busy": "2025-10-22T21:53:33.177779Z",
     "iopub.status.idle": "2025-10-22T21:53:33.198282Z",
     "shell.execute_reply": "2025-10-22T21:53:33.197898Z"
    }
   },
   "outputs": [
    {
     "data": {
      "text/html": [
       "<div>\n",
       "<style scoped>\n",
       "    .dataframe tbody tr th:only-of-type {\n",
       "        vertical-align: middle;\n",
       "    }\n",
       "\n",
       "    .dataframe tbody tr th {\n",
       "        vertical-align: top;\n",
       "    }\n",
       "\n",
       "    .dataframe thead th {\n",
       "        text-align: right;\n",
       "    }\n",
       "</style>\n",
       "<table border=\"1\" class=\"dataframe\">\n",
       "  <thead>\n",
       "    <tr style=\"text-align: right;\">\n",
       "      <th></th>\n",
       "      <th>filas</th>\n",
       "      <th>%_filas</th>\n",
       "      <th>ventas_total</th>\n",
       "    </tr>\n",
       "  </thead>\n",
       "  <tbody>\n",
       "    <tr>\n",
       "      <th>Sin CustomerID</th>\n",
       "      <td>234233</td>\n",
       "      <td>22.93</td>\n",
       "      <td>2,548,295.50</td>\n",
       "    </tr>\n",
       "    <tr>\n",
       "      <th>Con CustomerID</th>\n",
       "      <td>787203</td>\n",
       "      <td>77.07</td>\n",
       "      <td>16,221,559.92</td>\n",
       "    </tr>\n",
       "  </tbody>\n",
       "</table>\n",
       "</div>"
      ],
      "text/plain": [
       "                 filas  %_filas  ventas_total\n",
       "Sin CustomerID  234233    22.93  2,548,295.50\n",
       "Con CustomerID  787203    77.07 16,221,559.92"
      ]
     },
     "execution_count": 12,
     "metadata": {},
     "output_type": "execute_result"
    }
   ],
   "source": [
    "\n",
    "# Impacto de valores faltantes en CustomerID\n",
    "missing_mask = clean_df['CustomerID'].isna()\n",
    "impact_table = pd.DataFrame({\n",
    "    'filas': [missing_mask.sum(), (~missing_mask).sum()],\n",
    "    '%_filas': [missing_mask.mean() * 100, (~missing_mask).mean() * 100],\n",
    "    'ventas_total': [clean_df.loc[missing_mask, 'TotalPrice'].sum(), clean_df.loc[~missing_mask, 'TotalPrice'].sum()],\n",
    "}, index=['Sin CustomerID', 'Con CustomerID'])\n",
    "\n",
    "impact_table\n"
   ]
  },
  {
   "cell_type": "markdown",
   "id": "3b8a9397",
   "metadata": {},
   "source": [
    "\n",
    "**Decisión sobre `CustomerID`.**\n",
    "Eliminar todas las filas sin `CustomerID` recortaría el dataset y afectaría análisis por país/producto; en cambio, mantenerlas permite conservar ventas que sí están asociadas a inventario y ubicación. Se propone:\n",
    "- Conservar filas sin `CustomerID` para análisis operativos (producto/país).\n",
    "- Identificar un plan de enriquecimiento futuro (matching por dirección o correo) antes de análisis centrados en clientes.\n"
   ]
  },
  {
   "cell_type": "markdown",
   "id": "84d1eb5f",
   "metadata": {},
   "source": [
    "## Parte 4. Data Contracts\n",
    "\n",
    "**Checklist de la actividad:**\n",
    "- Define un Data Contract (YAML/JSON) para `InvoiceNo`, `InvoiceDate`, `StockCode`, `Description`, `Quantity`, `UnitPrice` y `CustomerID`, incluyendo reglas de calidad asociadas."
   ]
  },
  {
   "cell_type": "code",
   "execution_count": null,
   "id": "cf3d6659",
   "metadata": {
    "execution": {
     "iopub.execute_input": "2025-10-22T21:53:33.200428Z",
     "iopub.status.busy": "2025-10-22T21:53:33.200289Z",
     "iopub.status.idle": "2025-10-22T21:53:33.435873Z",
     "shell.execute_reply": "2025-10-22T21:53:33.435549Z"
    }
   },
   "outputs": [
    {
     "name": "stdout",
     "output_type": "stream",
     "text": [
      "{\n",
      "  \"dataset\": \"online_retail_ii_clean\",\n",
      "  \"owner\": \"analytics-team\",\n",
      "  \"freshness\": \"daily\",\n",
      "  \"columns\": {\n",
      "    \"InvoiceNo\": {\n",
      "      \"type\": \"string\",\n",
      "      \"required\": true,\n",
      "      \"unique_per_invoice\": true,\n",
      "      \"pattern\": \"^[0-9]+$\",\n",
      "      \"description\": \"Identificador de la factura (número alfanumérico sin espacios)\"\n",
      "    },\n",
      "    \"InvoiceDate\": {\n",
      "      \"type\": \"datetime\",\n",
      "      \"required\": true,\n",
      "      \"timezone\": \"UTC\",\n",
      "      \"description\": \"Fecha y hora de la transacción\"\n",
      "    },\n",
      "    \"StockCode\": {\n",
      "      \"type\": \"string\",\n",
      "      \"required\": true,\n",
      "      \"description\": \"Identificador del producto en inventario\"\n",
      "    },\n",
      "    \"Description\": {\n",
      "      \"type\": \"string\",\n",
      "      \"required\": true,\n",
      "      \"max_length\": 35,\n",
      "      \"description\": \"Descripción legible del producto\"\n",
      "    },\n",
      "    \"Quantity\": {\n",
      "      \"type\": \"integer\",\n",
      "      \"required\": true,\n",
      "      \"min_value\": -80995,\n",
      "      \"max_value\": 80995,\n",
      "      \"description\": \"Número de unidades compradas (positivas hacia venta, negativas para devoluciones)\"\n",
      "    },\n",
      "    \"UnitPrice\": {\n",
      "      \"type\": \"float\",\n",
      "      \"required\": true,\n",
      "      \"min_value\": -53594.36,\n",
      "      \"max_value\": 38970.0,\n",
      "      \"description\": \"Precio unitario en libras esterlinas\"\n",
      "    },\n",
      "    \"CustomerID\": {\n",
      "      \"type\": \"integer\",\n",
      "      \"required\": false,\n",
      "      \"nullable\": true,\n",
      "      \"description\": \"Identificador numérico del cliente; puede ser nulo para pedidos sin registro\"\n",
      "    }\n",
      "  },\n",
      "  \"quality_rules\": [\n",
      "    \"TotalPrice debe ser igual a Quantity * UnitPrice\",\n",
      "    \"InvoiceNo no puede contener espacios en blanco\",\n",
      "    \"InvoiceDate no puede ser futura respecto a la fecha de entrega del lote\"\n",
      "  ]\n",
      "}\n"
     ]
    }
   ],
   "source": [
    "\n",
    "import json\n",
    "\n",
    "contract = {\n",
    "    'dataset': 'online_retail_ii_clean',\n",
    "    'owner': 'analytics-team',\n",
    "    'freshness': 'daily',\n",
    "    'columns': {\n",
    "        'InvoiceNo': {\n",
    "            'type': 'string',\n",
    "            'required': True,\n",
    "            'unique_per_invoice': True,\n",
    "            'pattern': '^[0-9]+$',\n",
    "            'description': 'Identificador de la factura (número alfanumérico sin espacios)'\n",
    "        },\n",
    "        'InvoiceDate': {\n",
    "            'type': 'datetime',\n",
    "            'required': True,\n",
    "            'timezone': 'UTC',\n",
    "            'description': 'Fecha y hora de la transacción'\n",
    "        },\n",
    "        'StockCode': {\n",
    "            'type': 'string',\n",
    "            'required': True,\n",
    "            'description': 'Identificador del producto en inventario'\n",
    "        },\n",
    "        'Description': {\n",
    "            'type': 'string',\n",
    "            'required': True,\n",
    "            'max_length': int(clean_df['Description'].str.len().max()),\n",
    "            'description': 'Descripción legible del producto'\n",
    "        },\n",
    "        'Quantity': {\n",
    "            'type': 'integer',\n",
    "            'required': True,\n",
    "            'min_value': int(clean_df['Quantity'].min()),\n",
    "            'max_value': int(clean_df['Quantity'].max()),\n",
    "            'description': 'Número de unidades compradas (positivas hacia venta, negativas para devoluciones)'\n",
    "        },\n",
    "        'UnitPrice': {\n",
    "            'type': 'float',\n",
    "            'required': True,\n",
    "            'min_value': float(clean_df['UnitPrice'].min()),\n",
    "            'max_value': float(clean_df['UnitPrice'].max()),\n",
    "            'description': 'Precio unitario en libras esterlinas'\n",
    "        },\n",
    "        'CustomerID': {\n",
    "            'type': 'integer',\n",
    "            'required': False,\n",
    "            'nullable': True,\n",
    "            'description': 'Identificador numérico del cliente; puede ser nulo para pedidos sin registro'\n",
    "        }\n",
    "    },\n",
    "    'quality_rules': [\n",
    "        'TotalPrice debe ser igual a Quantity * UnitPrice',\n",
    "        'InvoiceNo no puede contener espacios en blanco',\n",
    "        'InvoiceDate no puede ser futura respecto a la fecha de entrega del lote'\n",
    "    ]\n",
    "}\n",
    "\n",
    "print(json.dumps(contract, indent=2, ensure_ascii=False))\n"
   ]
  },
  {
   "cell_type": "markdown",
   "id": "b2e7c09f",
   "metadata": {},
   "source": [
    "## Parte 5. Conclusiones\n",
    "\n",
    "**Checklist de la actividad:**\n",
    "- Resume el antes/después de la limpieza en una tabla breve destacando efecto en duplicados, ventas y valores faltantes."
   ]
  },
  {
   "cell_type": "code",
   "execution_count": null,
   "id": "ffac3492",
   "metadata": {
    "execution": {
     "iopub.execute_input": "2025-10-22T21:53:33.437404Z",
     "iopub.status.busy": "2025-10-22T21:53:33.437281Z",
     "iopub.status.idle": "2025-10-22T21:53:33.444858Z",
     "shell.execute_reply": "2025-10-22T21:53:33.444605Z"
    }
   },
   "outputs": [
    {
     "data": {
      "text/html": [
       "<div>\n",
       "<style scoped>\n",
       "    .dataframe tbody tr th:only-of-type {\n",
       "        vertical-align: middle;\n",
       "    }\n",
       "\n",
       "    .dataframe tbody tr th {\n",
       "        vertical-align: top;\n",
       "    }\n",
       "\n",
       "    .dataframe thead th {\n",
       "        text-align: right;\n",
       "    }\n",
       "</style>\n",
       "<table border=\"1\" class=\"dataframe\">\n",
       "  <thead>\n",
       "    <tr style=\"text-align: right;\">\n",
       "      <th></th>\n",
       "      <th>métrica</th>\n",
       "      <th>valor</th>\n",
       "    </tr>\n",
       "  </thead>\n",
       "  <tbody>\n",
       "    <tr>\n",
       "      <th>0</th>\n",
       "      <td>Registros totales</td>\n",
       "      <td>1,067,371.00</td>\n",
       "    </tr>\n",
       "    <tr>\n",
       "      <th>1</th>\n",
       "      <td>Duplicados exactos removidos</td>\n",
       "      <td>34,335.00</td>\n",
       "    </tr>\n",
       "    <tr>\n",
       "      <th>2</th>\n",
       "      <td>Duplicados por clave removidos</td>\n",
       "      <td>11,600.00</td>\n",
       "    </tr>\n",
       "    <tr>\n",
       "      <th>3</th>\n",
       "      <td>Ventas totales (antes)</td>\n",
       "      <td>19,287,250.57</td>\n",
       "    </tr>\n",
       "    <tr>\n",
       "      <th>4</th>\n",
       "      <td>Ventas totales (después)</td>\n",
       "      <td>18,769,855.42</td>\n",
       "    </tr>\n",
       "    <tr>\n",
       "      <th>5</th>\n",
       "      <td>Filas sin CustomerID (antes)</td>\n",
       "      <td>243,007.00</td>\n",
       "    </tr>\n",
       "    <tr>\n",
       "      <th>6</th>\n",
       "      <td>Filas sin CustomerID (después)</td>\n",
       "      <td>234,233.00</td>\n",
       "    </tr>\n",
       "  </tbody>\n",
       "</table>\n",
       "</div>"
      ],
      "text/plain": [
       "                          métrica         valor\n",
       "0               Registros totales  1,067,371.00\n",
       "1    Duplicados exactos removidos     34,335.00\n",
       "2  Duplicados por clave removidos     11,600.00\n",
       "3          Ventas totales (antes) 19,287,250.57\n",
       "4        Ventas totales (después) 18,769,855.42\n",
       "5    Filas sin CustomerID (antes)    243,007.00\n",
       "6  Filas sin CustomerID (después)    234,233.00"
      ]
     },
     "execution_count": 14,
     "metadata": {},
     "output_type": "execute_result"
    }
   ],
   "source": [
    "\n",
    "summary = pd.DataFrame({\n",
    "    'métrica': [\n",
    "        'Registros totales',\n",
    "        'Duplicados exactos removidos',\n",
    "        'Duplicados por clave removidos',\n",
    "        'Ventas totales (antes)',\n",
    "        'Ventas totales (después)',\n",
    "        'Filas sin CustomerID (antes)',\n",
    "        'Filas sin CustomerID (después)',\n",
    "    ],\n",
    "    'valor': [\n",
    "        len(df),\n",
    "        exact_removed,\n",
    "        key_removed,\n",
    "        df['TotalPrice'].sum(),\n",
    "        clean_df['TotalPrice'].sum(),\n",
    "        df['CustomerID'].isna().sum(),\n",
    "        clean_df['CustomerID'].isna().sum(),\n",
    "    ]\n",
    "})\n",
    "summary\n"
   ]
  },
  {
   "cell_type": "markdown",
   "id": "11d42a51",
   "metadata": {},
   "source": [
    "\n",
    "Se redujeron duplicados exactos y por clave sin perder ventas relevantes; persisten registros sin `CustomerID`, que deben gestionarse en procesos de captura. El contrato de datos propuesto formaliza las reglas mínimas de campo, apuntalando la gobernanza futura del dataset.\n"
   ]
  }
 ],
 "metadata": {
  "kernelspec": {
   "display_name": "base",
   "language": "python",
   "name": "python3"
  },
  "language_info": {
   "codemirror_mode": {
    "name": "ipython",
    "version": 3
   },
   "file_extension": ".py",
   "mimetype": "text/x-python",
   "name": "python",
   "nbconvert_exporter": "python",
   "pygments_lexer": "ipython3",
   "version": "3.11.5"
  }
 },
 "nbformat": 4,
 "nbformat_minor": 5
}
